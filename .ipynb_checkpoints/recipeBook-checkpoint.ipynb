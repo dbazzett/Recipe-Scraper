{
 "cells": [
  {
   "cell_type": "code",
   "execution_count": null,
   "metadata": {},
   "outputs": [],
   "source": [
    "class recipe:\n",
    "  def __init__(self):\n",
    "    self.recipeList = []\n",
    "  def addItem(self,recipeItem):\n",
    "    self.recipeList.append(recipeItem)\n",
    "  def removeItem(self,item):\n",
    "    self.recipeList.remove(item)\n",
    "  def __repr__(self):\n",
    "    return self.recipeList\n",
    "  \n",
    "class recipeItem:\n",
    "  def __init__(self, inputQuantity, unit, ingredient):\n",
    "    self.unit = unit.lower()\n",
    "    self.ingredient = ingredient.lower() \n",
    "    if(self.isFraction(inputQuantity)):\n",
    "      self.quant = fraction(inputQuantity[0],inputQuantity[2])\n",
    "      self.strRep= str(self.quant.num)+'/' +str(self.quant.den) + ' '+ self.unit + ' '+ self.ingredient\n",
    "    else:\n",
    "      self.quant = float(inputQuantity)\n",
    "      self.strRep = str(self.quant) + ' '+ self.unit + ' '+ self.ingredient\n",
    "  def isFraction(self,inputQuantity):\n",
    "    slash1 = '\\\\'\n",
    "    slash2='/'\n",
    "    if(slash1 in inputQuantity or slash2 in inputQuantity):\n",
    "      return True\n",
    "    else:\n",
    "      return False\n",
    "  def __repr__(self):\n",
    "    return self.strRep\n",
    "\n",
    "class quantity:\n",
    "  def __init__(self,qty):\n",
    "    self.value = qty\n",
    "class fraction:\n",
    "  def __init__(self, numerator,denominator):\n",
    "    self.num = int(numerator)\n",
    "    self.den = int(denominator)\n",
    "    self.value = self.num/self.den\n",
    "    \n",
    "\n",
    "\n"
   ]
  },
  {
   "cell_type": "code",
   "execution_count": null,
   "metadata": {},
   "outputs": [],
   "source": [
    "\n",
    "r1 = recipe()\n",
    "r1i1 = recipeItem('1/2','cup','Flour')\n",
    "r1i2 = recipeItem('3','cup','sugar')\n",
    "r1i3 = recipeItem('1/4','cup','cinamon')\n",
    "r1.addItem(r1i1)\n",
    "r1.addItem(r1i2)\n",
    "r1.addItem(r1i3)\n"
   ]
  },
  {
   "cell_type": "code",
   "execution_count": null,
   "metadata": {},
   "outputs": [],
   "source": [
    "for i in range(len(r1.recipeList)):\n",
    "  print(r1.recipeList[i])\n"
   ]
  }
 ],
 "metadata": {
  "kernelspec": {
   "display_name": "Python 3",
   "language": "python",
   "name": "python3"
  },
  "language_info": {
   "codemirror_mode": {
    "name": "ipython",
    "version": 3
   },
   "file_extension": ".py",
   "mimetype": "text/x-python",
   "name": "python",
   "nbconvert_exporter": "python",
   "pygments_lexer": "ipython3",
   "version": "3.7.6"
  }
 },
 "nbformat": 4,
 "nbformat_minor": 2
}
